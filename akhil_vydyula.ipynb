{
  "nbformat": 4,
  "nbformat_minor": 0,
  "metadata": {
    "colab": {
      "name": "akhil_vydyula",
      "provenance": []
    },
    "kernelspec": {
      "name": "python3",
      "display_name": "Python 3"
    }
  },
  "cells": [
    {
      "cell_type": "markdown",
      "metadata": {
        "id": "8acRRvIYjt5_"
      },
      "source": [
        "#TASK -1"
      ]
    },
    {
      "cell_type": "code",
      "metadata": {
        "id": "7HXdCDdVzkhz"
      },
      "source": [
        "import requests\n",
        "import json\n",
        "json_str = requests.get('https://my-json-server.typicode.com/typicode/demo/db').content.decode('utf-8')\n",
        "dict_from_json = json.loads(json_str)"
      ],
      "execution_count": 49,
      "outputs": []
    },
    {
      "cell_type": "code",
      "metadata": {
        "id": "ncuNTYmJwDq8"
      },
      "source": [
        "# test cases for jsonStringA and jsonStringB according to your data input\n",
        "jsonStringA = requests.get('https://my-json-server.typicode.com/typicode/demo/comments').content.decode('utf-8')\n",
        "jsonStringB = requests.get('https://my-json-server.typicode.com/typicode/demo/posts').content.decode('utf-8')"
      ],
      "execution_count": 37,
      "outputs": []
    },
    {
      "cell_type": "code",
      "metadata": {
        "id": "W_GIhx5LrvOz"
      },
      "source": [
        "def format_obj(obj, term_width=80, indent=0):\n",
        "    # format a dict\n",
        "    if isinstance(obj, dict):\n",
        "        max_key_len = max([len(str(k)) for k in obj.keys()])\n",
        "        return '\\n'.join([(' '*indent if i > 0 else '') +\n",
        "                          '{}:'.format(k).ljust(max_key_len + 2) +\n",
        "                          format_obj(v, term_width,\n",
        "                                     indent + max_key_len + 2)\n",
        "                          for i,(k,v) in enumerate(obj.items())])\n",
        "    # format a list\n",
        "    elif isinstance(obj, list) or isinstance(obj, tuple):\n",
        "        list_item_label = ' - '\n",
        "        return '\\n'.join([(' '*indent if i > 0 else '') +\n",
        "                          list_item_label +\n",
        "                          format_obj(item, term_width,\n",
        "                                     indent + len(list_item_label))\n",
        "                          for i,item in enumerate(obj)])\n",
        "    # format anything else (with a __str__ representation)\n",
        "    else:\n",
        "        obj = str(obj)\n",
        "        if indent >= term_width - 5:\n",
        "            return obj\n",
        "        formatted_lines = []\n",
        "        for line in obj.split('\\n'):\n",
        "            while len(line) > term_width - indent:\n",
        "                subline = line[:term_width - indent]\n",
        "                if ' ' in subline:\n",
        "                    subline = ' '.join(subline.split(' ')[:-1]) + ' '\n",
        "                formatted_lines.append(subline)\n",
        "                line = line[len(subline):]\n",
        "            formatted_lines.append(line)\n",
        "        return '\\n'.join([(' '*indent if i > 0 else '') + line\n",
        "                          for i,line in enumerate(formatted_lines)])\n"
      ],
      "execution_count": 25,
      "outputs": []
    },
    {
      "cell_type": "code",
      "metadata": {
        "id": "GI3_3iA9x1-g"
      },
      "source": [
        "# list to dictionary\n",
        "def Convert(lst):\n",
        "    res_dct = {lst[i]: lst[i + 1] for i in range(0, len(lst), 2)}\n",
        "    return res_dct"
      ],
      "execution_count": 42,
      "outputs": []
    },
    {
      "cell_type": "code",
      "metadata": {
        "colab": {
          "base_uri": "https://localhost:8080/"
        },
        "id": "iCjyDNduzrQV",
        "outputId": "c4d2f77c-edee-4162-c922-77d19e6ba6f1"
      },
      "source": [
        "print(dict_from_json)"
      ],
      "execution_count": 50,
      "outputs": [
        {
          "output_type": "stream",
          "text": [
            "{'posts': [{'id': 1, 'title': 'Post 1'}, {'id': 2, 'title': 'Post 2'}, {'id': 3, 'title': 'Post 3'}], 'comments': [{'id': 1, 'body': 'some comment', 'postId': 1}, {'id': 2, 'body': 'some comment', 'postId': 1}], 'profile': {'name': 'typicode'}}\n"
          ],
          "name": "stdout"
        }
      ]
    },
    {
      "cell_type": "code",
      "metadata": {
        "colab": {
          "base_uri": "https://localhost:8080/"
        },
        "id": "oRw_kYVDzuu2",
        "outputId": "053f00e7-9c9a-4981-e8bc-eb06b83ec44c"
      },
      "source": [
        "print(format_obj(dict_from_json))\n"
      ],
      "execution_count": 51,
      "outputs": [
        {
          "output_type": "stream",
          "text": [
            "posts:     - id:    1\n",
            "             title: Post 1\n",
            "           - id:    2\n",
            "             title: Post 2\n",
            "           - id:    3\n",
            "             title: Post 3\n",
            "comments:  - id:     1\n",
            "             body:   some comment\n",
            "             postId: 1\n",
            "           - id:     2\n",
            "             body:   some comment\n",
            "             postId: 1\n",
            "profile:  name: typicode\n"
          ],
          "name": "stdout"
        }
      ]
    },
    {
      "cell_type": "markdown",
      "metadata": {
        "id": "SBziu9MCjkC1"
      },
      "source": [
        "#TASK -2"
      ]
    },
    {
      "cell_type": "code",
      "metadata": {
        "id": "PzGkizTixQQc"
      },
      "source": [
        "#fuction for finding total no of users\n",
        "import requests\n",
        "from urllib.request import Request, urlopen\n",
        "def tem():\n",
        "    c=0\n",
        "    for i in range(page_no):\n",
        "        url = \"https://reqres.in/api/users?page=\"+str(i)\n",
        "        info = requests.get(\"https://reqres.in/api/users?page=1\").json()\n",
        "        c=c+len(info[\"data\"])\n",
        "    return c"
      ],
      "execution_count": 3,
      "outputs": []
    },
    {
      "cell_type": "code",
      "metadata": {
        "colab": {
          "base_uri": "https://localhost:8080/"
        },
        "id": "q5TLH5352mAe",
        "outputId": "c04a7197-2da4-44d3-f328-d1c3816697d6"
      },
      "source": [
        "page_no = int(input(\"Enter page number:\"))\n",
        "num = tem()\n",
        "print(\"The number of users in this page is \",num)"
      ],
      "execution_count": 13,
      "outputs": [
        {
          "output_type": "stream",
          "text": [
            "Enter page number:1\n",
            "The number of users in this page is  6\n"
          ],
          "name": "stdout"
        }
      ]
    }
  ]
}